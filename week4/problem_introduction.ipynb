{
 "cells": [
  {
   "cell_type": "markdown",
   "metadata": {},
   "source": [
    "## Introduction Section / Business Problem Section"
   ]
  },
  {
   "cell_type": "code",
   "execution_count": null,
   "metadata": {},
   "outputs": [],
   "source": [
    "Introducton\n",
    "==============\n",
    "\n",
    "The Battle Of Neighborhood priject help to peoples finding or best nearest venues around their neighborhoods.And Explores the location data based on user problem.The Business Problem is ,the user start their business based on most liked venues  around the  location radius(like radius=500),The Particular address contains number of neighborhoods with in that different venues,\n",
    "based on venues category and number of likes got the venue and nearest distance venue  to recommended to user for start their business.\n",
    "\n",
    "\n",
    "problem soluction:\n",
    "==================\n",
    "\n",
    "1. use North York Location data for suggest top venues convert address into their latitude and longitude\n",
    "2. explore each neighbourhood , that contains venue id's\n",
    "\n",
    "url='https://api.foursquare.com/v2/venues/explore'\n",
    "\n",
    "3)based on  venue id's to analyze venue likes count\n",
    "\n",
    "url='https://api.foursquare.com/v2/venues/venue_id/likes\n",
    "\n",
    "4)finally sort the dataframe based on Likes columns  to get the top 10 venues using .head(10)\n"
   ]
  },
  {
   "cell_type": "markdown",
   "metadata": {},
   "source": [
    "## Location"
   ]
  },
  {
   "cell_type": "code",
   "execution_count": null,
   "metadata": {},
   "outputs": [],
   "source": [
    "North york toronto,canada location contains more venue based on the latitude and longitude to analyze neighbourgood data and find out most liked venues.\n",
    "\n"
   ]
  },
  {
   "cell_type": "markdown",
   "metadata": {},
   "source": [
    "## FourSquare API"
   ]
  },
  {
   "cell_type": "code",
   "execution_count": null,
   "metadata": {},
   "outputs": [],
   "source": [
    "Foursquare api is a mostly used for gathering  location data and it used for searching location venues ,exploring recommend venues ,photos ect.\n"
   ]
  },
  {
   "cell_type": "markdown",
   "metadata": {},
   "source": [
    "## Work flow"
   ]
  },
  {
   "cell_type": "code",
   "execution_count": null,
   "metadata": {},
   "outputs": [],
   "source": [
    "Use the credentials of foursquare api like(CLIENT_ID,CLIENT_NAME,VERSION) and analyze the neighborhoods with in radius=500 and limit=100\n",
    "based on these parameteres create a url,explore the neighborhoods.\n"
   ]
  },
  {
   "cell_type": "markdown",
   "metadata": {},
   "source": [
    "## Approach"
   ]
  },
  {
   "cell_type": "code",
   "execution_count": null,
   "metadata": {},
   "outputs": [],
   "source": [
    "Using the KMeans Clustring approach to creates the clusters nearest to the centroids ,segment and clustering the venues categories and venues likes counts\n"
   ]
  },
  {
   "cell_type": "markdown",
   "metadata": {},
   "source": [
    "## Libraries are Used"
   ]
  },
  {
   "cell_type": "code",
   "execution_count": null,
   "metadata": {},
   "outputs": [],
   "source": [
    "pandas     : Used to analyze and manipulating data\n",
    "requests   : TO scrap the web data ,it returns [response 200].It allows the https requests and response as https response object.\n",
    "bs4        : TO scrap the html data in the wep pages.\n",
    "geopy.geocoders: Used to create a Nominatim Object.\n",
    "folium     : USed to generate maps \n",
    "json:      : handles the json data(convert data into json format) \n",
    "numpy      : handles muntidimentional arrays\n",
    "sklearn    : for KMeans\n",
    "matplotlib : for visualization and colormap"
   ]
  },
  {
   "cell_type": "markdown",
   "metadata": {},
   "source": []
  }
 ],
 "metadata": {
  "kernelspec": {
   "display_name": "Python 3",
   "language": "python",
   "name": "python3"
  },
  "language_info": {
   "codemirror_mode": {
    "name": "ipython",
    "version": 3
   },
   "file_extension": ".py",
   "mimetype": "text/x-python",
   "name": "python",
   "nbconvert_exporter": "python",
   "pygments_lexer": "ipython3",
   "version": "3.7.6"
  }
 },
 "nbformat": 4,
 "nbformat_minor": 4
}
