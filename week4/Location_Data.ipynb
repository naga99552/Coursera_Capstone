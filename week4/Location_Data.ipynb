{
 "cells": [
  {
   "cell_type": "markdown",
   "metadata": {},
   "source": [
    "## Data Section"
   ]
  },
  {
   "cell_type": "code",
   "execution_count": null,
   "metadata": {},
   "outputs": [],
   "source": [
    "wiki page link : https://en.wikipedia.org/wiki/List_of_postal_codes_of_Canada:_M \n",
    "This link contains all neighbourhood List of Postal Codes in Canada.\n",
    "columns are : Neighborhood,Borough,Postal Codes"
   ]
  },
  {
   "cell_type": "markdown",
   "metadata": {},
   "source": [
    "## Foursquare API"
   ]
  },
  {
   "cell_type": "code",
   "execution_count": null,
   "metadata": {},
   "outputs": [],
   "source": [
    "Before start the problem need location data for exploring location data. The use Foursquare API ,it is location data Provider about venue names and locations ,menues,photos,tips,likes etc.It is a sole data source all the requried data obtained through the API\n",
    "After explore all Neighborhoods ,to uses the likes along with venue_id to gather likes for venues.\n",
    "\n",
    "The \n",
    "information obtained from Neighborhoods:\n",
    "=======================================\n",
    "1.Neighborhood name\n",
    "2.Neighborhood latitude\n",
    "3.neighborhood longitude\n",
    "4.venue name\n",
    "5.venue latitude\n",
    "6.venue longitude\n",
    "7.venue categories\n",
    "8.venue likes count"
   ]
  }
 ],
 "metadata": {
  "kernelspec": {
   "display_name": "Python 3",
   "language": "python",
   "name": "python3"
  },
  "language_info": {
   "codemirror_mode": {
    "name": "ipython",
    "version": 3
   },
   "file_extension": ".py",
   "mimetype": "text/x-python",
   "name": "python",
   "nbconvert_exporter": "python",
   "pygments_lexer": "ipython3",
   "version": "3.7.6"
  }
 },
 "nbformat": 4,
 "nbformat_minor": 4
}
